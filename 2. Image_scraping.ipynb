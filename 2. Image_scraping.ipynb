{
 "cells": [
  {
   "cell_type": "code",
   "execution_count": 1,
   "id": "4338b1b5-a5e0-481c-b6f7-6155bddf0460",
   "metadata": {},
   "outputs": [],
   "source": [
    "from bs4 import BeautifulSoup\n",
    "import requests\n",
    "import pandas as pd\n",
    "import os"
   ]
  },
  {
   "cell_type": "code",
   "execution_count": 2,
   "id": "672627d5-4abd-4caf-b2a7-f1971d9eaac4",
   "metadata": {},
   "outputs": [],
   "source": [
    "URL = \"https://www.amazon.in/s?k=watches&crid=4LI5NUNBDFHQ&sprefix=watches%2Caps%2C280&ref=nb_sb_noss_1\""
   ]
  },
  {
   "cell_type": "code",
   "execution_count": 3,
   "id": "49215dee-4fba-4d1e-be19-8f95d11b1c0d",
   "metadata": {},
   "outputs": [],
   "source": [
    "# Headers for request\n",
    "HEADERS = ({'User-Agent': 'Mozilla/5.0 (Windows NT 10.0; Win64; x64) AppleWebKit/537.36 (KHTML, like Gecko) Chrome/116.0.0.0 Safari/537.36', 'Accept-Language': 'en-US, en;q=0.5'}) #add your user agent "
   ]
  },
  {
   "cell_type": "code",
   "execution_count": 4,
   "id": "17ffdff5-8b8a-4ba6-9494-e63ef02c7b62",
   "metadata": {},
   "outputs": [],
   "source": [
    "# HTTP Request\n",
    "webpage = requests.get(URL, headers=HEADERS)"
   ]
  },
  {
   "cell_type": "code",
   "execution_count": 5,
   "id": "8c1328df-49df-4fd8-961a-f85e4361b52e",
   "metadata": {},
   "outputs": [
    {
     "data": {
      "text/plain": [
       "<Response [200]>"
      ]
     },
     "execution_count": 5,
     "metadata": {},
     "output_type": "execute_result"
    }
   ],
   "source": [
    "webpage"
   ]
  },
  {
   "cell_type": "code",
   "execution_count": 6,
   "id": "57e432c9-bc79-4442-af8f-285060ec37b7",
   "metadata": {},
   "outputs": [],
   "source": [
    "# Soup Object containiang all data\n",
    "soup = BeautifulSoup(webpage.content, \"html.parser\")"
   ]
  },
  {
   "cell_type": "code",
   "execution_count": 7,
   "id": "186e8417-3c28-450f-9797-1d0fc6a815e4",
   "metadata": {},
   "outputs": [],
   "source": [
    "links = soup.find_all(\"img\", attrs={'class':'s-image'})"
   ]
  },
  {
   "cell_type": "code",
   "execution_count": 8,
   "id": "e97e6235-a781-4e0b-9ece-9c1c2d3b339a",
   "metadata": {},
   "outputs": [
    {
     "data": {
      "text/plain": [
       "'https://m.media-amazon.com/images/I/61CIUAvayNL._AC_UL320_.jpg'"
      ]
     },
     "execution_count": 8,
     "metadata": {},
     "output_type": "execute_result"
    }
   ],
   "source": [
    "links[0].get('src')"
   ]
  },
  {
   "cell_type": "code",
   "execution_count": 9,
   "id": "51dde665-90c6-4cfc-b102-32c0c74ad2b6",
   "metadata": {},
   "outputs": [],
   "source": [
    "folder = 'Imgd'"
   ]
  },
  {
   "cell_type": "code",
   "execution_count": 10,
   "id": "075aed76-b322-4775-b26b-d8916baaf9ec",
   "metadata": {},
   "outputs": [],
   "source": [
    "os.mkdir(os.path.join(os.getcwd(), folder)) # create a folder"
   ]
  },
  {
   "cell_type": "code",
   "execution_count": 11,
   "id": "062a403e-de94-4fa4-9e30-bcf8e77d857c",
   "metadata": {},
   "outputs": [],
   "source": [
    "# use newly created folder"
   ]
  },
  {
   "cell_type": "code",
   "execution_count": 12,
   "id": "1ad2ad29-5dfa-4b95-91c3-d7cb59ae0634",
   "metadata": {},
   "outputs": [],
   "source": [
    "os.chdir(os.path.join(os.getcwd(), folder)) "
   ]
  },
  {
   "cell_type": "code",
   "execution_count": 13,
   "id": "76e4f480-ccf0-43c3-a5d8-30f6f5715c3d",
   "metadata": {},
   "outputs": [],
   "source": [
    "i=0"
   ]
  },
  {
   "cell_type": "markdown",
   "id": "9a80be8c-c744-412f-94a0-a66fc60474cd",
   "metadata": {},
   "source": [
    "Downloading images in a folder:"
   ]
  },
  {
   "cell_type": "code",
   "execution_count": 14,
   "id": "0e385761-ae03-46dd-9b2f-6c33f7655d30",
   "metadata": {},
   "outputs": [],
   "source": [
    "for elem in links:\n",
    "    image = elem.get('src')\n",
    "    name = 'img_'\n",
    "    with open(name + str(i) + '.jpg', 'wb') as f:\n",
    "            im = requests.get(image)\n",
    "            f.write(im.content)\n",
    "    i = i + 1       "
   ]
  },
  {
   "cell_type": "code",
   "execution_count": null,
   "id": "c9568ed2-5b0d-4ec6-b23c-cf19dabaad8d",
   "metadata": {},
   "outputs": [],
   "source": []
  }
 ],
 "metadata": {
  "kernelspec": {
   "display_name": "Python 3 (ipykernel)",
   "language": "python",
   "name": "python3"
  },
  "language_info": {
   "codemirror_mode": {
    "name": "ipython",
    "version": 3
   },
   "file_extension": ".py",
   "mimetype": "text/x-python",
   "name": "python",
   "nbconvert_exporter": "python",
   "pygments_lexer": "ipython3",
   "version": "3.11.4"
  }
 },
 "nbformat": 4,
 "nbformat_minor": 5
}
